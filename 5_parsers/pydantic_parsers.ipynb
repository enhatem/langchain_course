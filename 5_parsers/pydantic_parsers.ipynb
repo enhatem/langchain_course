{
 "cells": [
  {
   "cell_type": "code",
   "execution_count": 1,
   "metadata": {},
   "outputs": [],
   "source": [
    "import os\n",
    "import openai\n",
    "from dotenv import find_dotenv, load_dotenv\n",
    "from langchain_community.llms import OpenAI  \n",
    "# from langchain_community.chat_models import ChatOpenAI  # depricated\n",
    "from langchain_openai import ChatOpenAI\n",
    "# from langchain.prompts import ChatPromptTemplate  # depricated\n",
    "from langchain_core.prompts import ChatPromptTemplate"
   ]
  },
  {
   "cell_type": "markdown",
   "metadata": {},
   "source": [
    "### Creating client and ChatOpenAI object"
   ]
  },
  {
   "cell_type": "code",
   "execution_count": 2,
   "metadata": {},
   "outputs": [],
   "source": [
    "load_dotenv(find_dotenv())\n",
    "client = openai.OpenAI(api_key=os.environ[\"OPENAI_API_KEY\"])\n",
    "\n",
    "llm_model = \"gpt-4o-mini\"\n",
    "chat = ChatOpenAI(temperature=0.0, model=llm_model)"
   ]
  },
  {
   "cell_type": "markdown",
   "metadata": {},
   "source": [
    "### Email Input & Prompt template"
   ]
  },
  {
   "cell_type": "code",
   "execution_count": 3,
   "metadata": {},
   "outputs": [],
   "source": [
    "\n",
    "\n",
    "email_response = \"\"\"\n",
    "Here's our itinerary for our upcoming trip to Europe.\n",
    "There will be 5 of us on this vacation trip.\n",
    "We leave from Denver, Colorado airport at 8:45 pm, and arrive in Amsterdam 10 hours later\n",
    "at Schipol Airport.\n",
    "We'll grab a ride to our airbnb and maybe stop somewhere for breakfast before \n",
    "taking a nap.\n",
    "\n",
    "Some sightseeing will follow for a couple of hours. \n",
    "We will then go shop for gifts \n",
    "to bring back to our children and friends.  \n",
    "\n",
    "The next morning, at 7:45am we'll drive to to Belgium, Brussels - it should only take aroud 3 hours.\n",
    "While in Brussels we want to explore the city to its fullest - no rock left unturned!\n",
    "\n",
    "\"\"\"\n",
    "\n",
    "# email_template = \"\"\"\n",
    "# From the following email, extract the following information:\n",
    "# \n",
    "# leave_time: when are they leaving for vacation to Europe. If there's an actual\n",
    "# time written, use it, if not write unknown.\n",
    "# \n",
    "# leave_from: where are they leaving from, the airport or city name and state if\n",
    "# available.\n",
    "# \n",
    "# cities_to_visit: extract the cities they are going to visit. If there are more than \n",
    "# one, put them in square brackets like '[\"cityone\", \"citytwo\"].\n",
    "# \n",
    "# Format the output as JSON with the following keys:\n",
    "# leave_time\n",
    "# leave_from\n",
    "# cities_to_visit\n",
    "# \n",
    "# email: {email}\n",
    "# \"\"\""
   ]
  },
  {
   "cell_type": "markdown",
   "metadata": {},
   "source": [
    "### Pydantic data structure with validator example"
   ]
  },
  {
   "cell_type": "code",
   "execution_count": 6,
   "metadata": {},
   "outputs": [],
   "source": [
    "\n",
    "# Using pydantic, we will create a class that allows us to specify the field that we want\n",
    "from langchain_core.output_parsers import PydanticOutputParser\n",
    "from pydantic import BaseModel, Field, field_validator #, validator => depricated\n",
    "from typing import List\n",
    "\n",
    "# Defining desired data structure\n",
    "class VacationInfo(BaseModel):  # This will be our data class\n",
    "    leave_time: str = Field(description=\"When they are leaving. It's usually\")  # string type with the descirption of the field\n",
    "    leave_from: str = Field(description=\"Where are they leaving from.\\\n",
    "                                          it's a city, airport or state, or province\")\n",
    "    cities_to_visit: List = Field(description=\"The cities, towns they will be visiting on \\\n",
    "                                        their trip. This needs to be in a list\")\n",
    "    num_people: int = Field(description=\"this is an integer for a number of people on this trip\")\n",
    "\n",
    "    # We can also add a validator to build a more robust application to validate certain fields and throw errors if field type is not satisfied\n",
    "    @field_validator('num_people')\n",
    "    def check_sum_people(cls, field):\n",
    "        if field <=0:\n",
    "            raise ValueError(\"Badly formatted number\")\n",
    "        return field"
   ]
  },
  {
   "cell_type": "markdown",
   "metadata": {},
   "source": [
    "### Setting up Pydantic Output Parser and injecting format instructions"
   ]
  },
  {
   "cell_type": "code",
   "execution_count": 7,
   "metadata": {},
   "outputs": [],
   "source": [
    "# Setup a parser and inject the instructions\n",
    "pydantic_parser = PydanticOutputParser(pydantic_object=VacationInfo)\n",
    "format_instructions = pydantic_parser.get_format_instructions()\n",
    "\n",
    "# reviewed email template - we updated to add the {format_instructions}\n",
    "email_template_revised = \"\"\"\n",
    "From the following email, extract the following information regarding \n",
    "this trip.\n",
    "\n",
    "email: {email}\n",
    "\n",
    "{format_instructions}\n",
    "\"\"\""
   ]
  },
  {
   "cell_type": "markdown",
   "metadata": {},
   "source": [
    "### Create Chat prompt Template object & messages & feeding message to model"
   ]
  },
  {
   "cell_type": "code",
   "execution_count": 8,
   "metadata": {},
   "outputs": [],
   "source": [
    "updated_prompt = ChatPromptTemplate.from_template(template=email_template_revised)\n",
    "messages = updated_prompt.format_messages(email=email_response,\n",
    "                                          format_instructions=format_instructions)\n",
    "\n",
    "format_response = chat.invoke(messages)"
   ]
  },
  {
   "cell_type": "code",
   "execution_count": 9,
   "metadata": {},
   "outputs": [
    {
     "name": "stdout",
     "output_type": "stream",
     "text": [
      "content='```json\\n{\\n  \"leave_time\": \"8:45 pm\",\\n  \"leave_from\": \"Denver, Colorado airport\",\\n  \"cities_to_visit\": [\"Amsterdam\", \"Brussels\"],\\n  \"num_people\": 5\\n}\\n```' additional_kwargs={'refusal': None} response_metadata={'token_usage': {'completion_tokens': 50, 'prompt_tokens': 465, 'total_tokens': 515, 'completion_tokens_details': {'accepted_prediction_tokens': 0, 'audio_tokens': 0, 'reasoning_tokens': 0, 'rejected_prediction_tokens': 0}, 'prompt_tokens_details': {'audio_tokens': 0, 'cached_tokens': 0}}, 'model_name': 'gpt-4o-mini-2024-07-18', 'system_fingerprint': 'fp_06737a9306', 'finish_reason': 'stop', 'logprobs': None} id='run-7b8331c8-a44a-45f4-9c54-e136d150532b-0' usage_metadata={'input_tokens': 465, 'output_tokens': 50, 'total_tokens': 515, 'input_token_details': {'audio': 0, 'cache_read': 0}, 'output_token_details': {'audio': 0, 'reasoning': 0}}\n",
      "<class 'langchain_core.messages.ai.AIMessage'>\n",
      "<class 'str'>\n"
     ]
    }
   ],
   "source": [
    "print(format_response)\n",
    "print(type(format_response))  # We get type langchain_core.messages.ai.AIMessage\n",
    "print(type(format_response.content))  # We get type string (str)"
   ]
  },
  {
   "cell_type": "markdown",
   "metadata": {},
   "source": [
    "### Parsing the response with the Pydantic Parser"
   ]
  },
  {
   "cell_type": "code",
   "execution_count": 10,
   "metadata": {},
   "outputs": [
    {
     "name": "stdout",
     "output_type": "stream",
     "text": [
      "<class '__main__.VacationInfo'>\n",
      "leave_time='8:45 pm' leave_from='Denver, Colorado airport' cities_to_visit=['Amsterdam', 'Brussels'] num_people=5\n"
     ]
    }
   ],
   "source": [
    "# Parsing the response to get the python dictionary (JSON)\n",
    "vacation = pydantic_parser.parse(format_response.content)\n",
    "print(type(vacation))\n",
    "print(vacation)"
   ]
  },
  {
   "cell_type": "code",
   "execution_count": 11,
   "metadata": {},
   "outputs": [
    {
     "data": {
      "text/plain": [
       "['Amsterdam', 'Brussels']"
      ]
     },
     "execution_count": 11,
     "metadata": {},
     "output_type": "execute_result"
    }
   ],
   "source": [
    "vacation.cities_to_visit"
   ]
  },
  {
   "cell_type": "code",
   "execution_count": 12,
   "metadata": {},
   "outputs": [
    {
     "name": "stdout",
     "output_type": "stream",
     "text": [
      "Amsterdam\n",
      "Brussels\n"
     ]
    }
   ],
   "source": [
    "for city in vacation.cities_to_visit:\n",
    "    print(city)"
   ]
  },
  {
   "cell_type": "code",
   "execution_count": null,
   "metadata": {},
   "outputs": [],
   "source": []
  }
 ],
 "metadata": {
  "kernelspec": {
   "display_name": "elie93 (3.12.3)",
   "language": "python",
   "name": "python3"
  },
  "language_info": {
   "codemirror_mode": {
    "name": "ipython",
    "version": 3
   },
   "file_extension": ".py",
   "mimetype": "text/x-python",
   "name": "python",
   "nbconvert_exporter": "python",
   "pygments_lexer": "ipython3",
   "version": "3.12.3"
  }
 },
 "nbformat": 4,
 "nbformat_minor": 2
}
