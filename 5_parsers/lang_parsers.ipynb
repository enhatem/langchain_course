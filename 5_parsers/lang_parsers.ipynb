{
 "cells": [
  {
   "cell_type": "code",
   "execution_count": 4,
   "metadata": {},
   "outputs": [],
   "source": [
    "import os\n",
    "import openai\n",
    "from dotenv import find_dotenv, load_dotenv\n",
    "from langchain_community.llms import OpenAI  \n",
    "# from langchain_community.chat_models import ChatOpenAI  # depricated\n",
    "from langchain_openai import ChatOpenAI\n",
    "# from langchain.prompts import ChatPromptTemplate  # depricated\n",
    "from langchain_core.prompts import ChatPromptTemplate"
   ]
  },
  {
   "cell_type": "markdown",
   "metadata": {},
   "source": [
    "#### Connecting to client"
   ]
  },
  {
   "cell_type": "code",
   "execution_count": 5,
   "metadata": {},
   "outputs": [],
   "source": [
    "load_dotenv(find_dotenv())\n",
    "client = openai.OpenAI(api_key=os.environ[\"OPENAI_API_KEY\"])\n",
    "\n",
    "llm_model = \"gpt-4o-mini\"\n",
    "chat = ChatOpenAI(temperature=0.0, model=llm_model)"
   ]
  },
  {
   "cell_type": "code",
   "execution_count": 6,
   "metadata": {},
   "outputs": [],
   "source": [
    "email_response = \"\"\"\n",
    "Here's our itinerary for our upcoming trip to Europe.\n",
    "We leave from Denver, Colorado airport at 8:45 pm, and arrive in Amsterdam 10 hours later\n",
    "at Schipol Airport.\n",
    "We'll grab a ride to our airbnb and maybe stop somewhere for breakfast before \n",
    "taking a nap.\n",
    "\n",
    "Some sightseeing will follow for a couple of hours. \n",
    "We will then go shop for gifts \n",
    "to bring back to our children and friends.  \n",
    "\n",
    "The next morning, at 7:45am we'll drive to to Belgium, Brussels - it should only take aroud 3 hours.\n",
    "While in Brussels we want to explore the city to its fullest - no rock left unturned!\n",
    "\n",
    "\"\"\"\n",
    "\n",
    "\n",
    "email_template = \"\"\"\n",
    "From the following email, extract the following information:\n",
    "\n",
    "leave_time: when are they leaving for vacation to Europe. If there's an actual\n",
    "time written, use it, if not write unknown.\n",
    "\n",
    "leave_from: where are they leaving from, the airport or city name and state if\n",
    "available.\n",
    "\n",
    "cities_to_visit: extract the cities they are going to visit. \n",
    "If there are more than one, put them in square brackets like '[\"cityone\", \"citytwo\"].\n",
    "\n",
    "Format the output as JSON with the following keys:\n",
    "leave_time\n",
    "leave_from\n",
    "cities_to_visit\n",
    "\n",
    "email: {email}\n",
    "\"\"\""
   ]
  },
  {
   "cell_type": "code",
   "execution_count": 7,
   "metadata": {},
   "outputs": [],
   "source": [
    "prompt_template = ChatPromptTemplate.from_template(email_template)\n",
    "messages = prompt_template.format_messages(email=email_response)"
   ]
  },
  {
   "cell_type": "markdown",
   "metadata": {},
   "source": [
    "## LangChain Parsers"
   ]
  },
  {
   "cell_type": "code",
   "execution_count": 8,
   "metadata": {},
   "outputs": [
    {
     "name": "stdout",
     "output_type": "stream",
     "text": [
      "The output should be a markdown code snippet formatted in the following schema, including the leading and trailing \"```json\" and \"```\":\n",
      "\n",
      "```json\n",
      "{\n",
      "\t\"leave_time\": string  // When they are leaving.                                         It's usually numerical time of the day.                                         If not available write N/A\n",
      "\t\"leave_from\": string  // Where are they leaving from.                                        it's a city, airport or state, or province\n",
      "\t\"cities_to_visit\": string  // The cities, towns they will be visiting on                                             their trip. This needs to be in a list\n",
      "}\n",
      "```\n"
     ]
    }
   ],
   "source": [
    "# ----------------- LangChain Parsers ----------------- #\n",
    "from langchain.output_parsers import ResponseSchema  # allows us to create the instructions of what fields we want to extract along with their formats\n",
    "from langchain.output_parsers import StructuredOutputParser  # actual output parsers\n",
    "\n",
    "leave_time_schema = ResponseSchema(name=\"leave_time\",\n",
    "                                   description=\"When they are leaving. \\\n",
    "                                        It's usually numerical time of the day. \\\n",
    "                                        If not available write N/A\")  # It's important to use a good description because this is what the langchain agent will use when creating the response schema.\n",
    "\n",
    "leave_from_schema = ResponseSchema(name=\"leave_from\",\n",
    "                                   description=\"Where are they leaving from.\\\n",
    "                                        it's a city, airport or state, or province\")\n",
    "\n",
    "cities_to_visit_schema = ResponseSchema(name=\"cities_to_visit\",\n",
    "                                        description=\"The cities, towns they will be visiting on \\\n",
    "                                            their trip. This needs to be in a list\")\n",
    "\n",
    "# Storing the response schema for each field in a list which will later be fed to the langchain instructions output parser\n",
    "response_schema = [\n",
    "    leave_time_schema,\n",
    "    leave_from_schema,\n",
    "    cities_to_visit_schema\n",
    "]\n",
    "\n",
    "# Setup the output parser\n",
    "output_parser = StructuredOutputParser.from_response_schemas(response_schema)\n",
    "format_instructions = output_parser.get_format_instructions()\n",
    "print(format_instructions)"
   ]
  },
  {
   "cell_type": "code",
   "execution_count": 9,
   "metadata": {},
   "outputs": [],
   "source": [
    "# reviewed email template - we updated to add the {format_instructions}\n",
    "email_template_revised = \"\"\"\n",
    "From the following email, extract the following information:\n",
    "\n",
    "leave_time: when are they leaving for vacation to Europe. If there's an actual\n",
    "time written, use it, if not write unknown.\n",
    "\n",
    "leave_from: where are they leaving from, the airport or city name and state if\n",
    "available.\n",
    "\n",
    "cities_to_visit: extract the cities they are going to visit. If there are more than \n",
    "one, put them in square brackets like '[\"cityone\", \"citytwo\"].\n",
    "\n",
    "Format the output as JSON with the following keys:\n",
    "leave_time\n",
    "leave_from\n",
    "cities_to_visit\n",
    "\n",
    "email: {email}\n",
    "{format_instructions}\n",
    "\"\"\""
   ]
  },
  {
   "cell_type": "code",
   "execution_count": 11,
   "metadata": {},
   "outputs": [
    {
     "name": "stdout",
     "output_type": "stream",
     "text": [
      "content='```json\\n{\\n  \"leave_time\": \"8:45 pm\",\\n  \"leave_from\": \"Denver, Colorado airport\",\\n  \"cities_to_visit\": [\"Amsterdam\", \"Brussels\"]\\n}\\n```' additional_kwargs={'refusal': None} response_metadata={'token_usage': {'completion_tokens': 42, 'prompt_tokens': 260, 'total_tokens': 302, 'completion_tokens_details': {'accepted_prediction_tokens': 0, 'audio_tokens': 0, 'reasoning_tokens': 0, 'rejected_prediction_tokens': 0}, 'prompt_tokens_details': {'audio_tokens': 0, 'cached_tokens': 0}}, 'model_name': 'gpt-4o-mini-2024-07-18', 'system_fingerprint': 'fp_06737a9306', 'finish_reason': 'stop', 'logprobs': None} id='run-9785f2e2-0836-4d38-aef9-d0092cb17385-0' usage_metadata={'input_tokens': 260, 'output_tokens': 42, 'total_tokens': 302, 'input_token_details': {'audio': 0, 'cache_read': 0}, 'output_token_details': {'audio': 0, 'reasoning': 0}}\n",
      "-----------------------------------------\n",
      "```json\n",
      "{\n",
      "  \"leave_time\": \"8:45 pm\",\n",
      "  \"leave_from\": \"Denver, Colorado airport\",\n",
      "  \"cities_to_visit\": [\"Amsterdam\", \"Brussels\"]\n",
      "}\n",
      "```\n",
      "-----------------------------------------\n",
      "<class 'str'>\n"
     ]
    }
   ],
   "source": [
    "updated_prompt = ChatPromptTemplate.from_template(template=email_template_revised)\n",
    "messages = prompt_template.format_messages(email=email_response,\n",
    "                                           format_instructions=format_instructions)\n",
    "\n",
    "response = chat.invoke(messages)\n",
    "print(response)\n",
    "print(\"-----------------------------------------\")\n",
    "print(response.content)\n",
    "print(\"-----------------------------------------\")\n",
    "print(type(response.content))  # Still a string but we are not done yet. We can now use the langchain parser to parse the response"
   ]
  },
  {
   "cell_type": "markdown",
   "metadata": {},
   "source": [
    "#### Using the StructureOutputParser to parse output into dictionnary (JSON)"
   ]
  },
  {
   "cell_type": "code",
   "execution_count": 12,
   "metadata": {},
   "outputs": [
    {
     "name": "stdout",
     "output_type": "stream",
     "text": [
      "{'leave_time': '8:45 pm', 'leave_from': 'Denver, Colorado airport', 'cities_to_visit': ['Amsterdam', 'Brussels']}\n",
      "<class 'dict'>\n",
      "Cities: Amsterdam\n"
     ]
    }
   ],
   "source": [
    "output_dict = output_parser.parse(response.content)  # parse into dict (JSON)\n",
    "print(output_dict)\n",
    "print(type(output_dict))\n",
    "print(f\"Cities: {output_dict['cities_to_visit'][0]}\")  # Extracting the first city in cities_to_visit key"
   ]
  },
  {
   "cell_type": "code",
   "execution_count": null,
   "metadata": {},
   "outputs": [],
   "source": []
  }
 ],
 "metadata": {
  "kernelspec": {
   "display_name": "elie93 (3.12.3)",
   "language": "python",
   "name": "python3"
  },
  "language_info": {
   "codemirror_mode": {
    "name": "ipython",
    "version": 3
   },
   "file_extension": ".py",
   "mimetype": "text/x-python",
   "name": "python",
   "nbconvert_exporter": "python",
   "pygments_lexer": "ipython3",
   "version": "3.12.3"
  }
 },
 "nbformat": 4,
 "nbformat_minor": 2
}
